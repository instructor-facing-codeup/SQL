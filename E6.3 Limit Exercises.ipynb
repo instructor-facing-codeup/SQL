{
 "cells": [
  {
   "cell_type": "markdown",
   "id": "ca2b13f4",
   "metadata": {},
   "source": [
    "# Limit Exercises"
   ]
  },
  {
   "cell_type": "markdown",
   "id": "dfcee97f",
   "metadata": {},
   "source": [
    "**Exercise Goals**:\n",
    "Add the LIMIT clause to our existing queries\n",
    "\n",
    "1. Create a new SQL script named limit_exercises.sql.\n",
    "<br>\n",
    "\n",
    "2. MySQL provides a way to return only unique results from our queries with the keyword DISTINCT. For example, to find all the unique titles within the company, we could run the following query:\n",
    "- SELECT DISTINCT title FROM titles;\n",
    "- List the first 10 distinct last name sorted in descending order.\n",
    "<br>\n",
    "\n",
    "3. a. Find all previous or current employees hired in the 90s and born on Christmas. Find the first 5 employees hired in the 90's by sorting by hire date and limiting your results to the first 5 records. Write a comment in your code that lists the five names of the employees returned.\n",
    "<br>\n",
    "\n",
    "4. Try to think of your results as batches, sets, or pages. The first five results are your first page. The five after that would be your second page, etc. Update the query to find the tenth page of results.\n",
    "- LIMIT and OFFSET can be used to create multiple pages of data. \n",
    "- What is the relationship between OFFSET (number of results to skip)\n",
    "- LIMIT (number of results per page), and the page number?"
   ]
  },
  {
   "cell_type": "markdown",
   "id": "a5d3ee7e",
   "metadata": {},
   "source": [
    "<hr style=\"border:2px solid gray\">"
   ]
  },
  {
   "cell_type": "markdown",
   "id": "512860ae",
   "metadata": {},
   "source": [
    "#### #2. MySQL provides a way to return only unique results from our queries with the keyword DISTINCT. For example, to find all the unique titles within the company, we could run the following query:\n",
    "\n",
    "SELECT DISTINCT title FROM titles;\n",
    "<br>\n",
    "List the first 10 distinct last name sorted in descending order."
   ]
  },
  {
   "cell_type": "raw",
   "id": "0385e424",
   "metadata": {},
   "source": [
    "SELECT distinct last_name\n",
    "FROM employees\n",
    "order by last_name DESC\n",
    "LIMIT 10;"
   ]
  },
  {
   "cell_type": "markdown",
   "id": "e6a6d73b",
   "metadata": {},
   "source": [
    "#### #3a. Find all previous or current employees hired in the 90s and born on Christmas. "
   ]
  },
  {
   "cell_type": "code",
   "execution_count": null,
   "id": "d9722cf7",
   "metadata": {},
   "outputs": [],
   "source": [
    "select *\n",
    "from employees\n",
    "where hire_date like '199%' \n",
    "and birth_date like '%-12-25' "
   ]
  },
  {
   "cell_type": "markdown",
   "id": "b96c6873",
   "metadata": {},
   "source": [
    "#### #3b. Find the first 5 employees hired in the 90's by sorting by hire date and limiting your results to the first 5 records. "
   ]
  },
  {
   "cell_type": "raw",
   "id": "07a8a9d2",
   "metadata": {},
   "source": [
    "select *\n",
    "from employees\n",
    "where hire_date like '199%' \n",
    "order by hire_date\n",
    "limit 5;"
   ]
  },
  {
   "cell_type": "markdown",
   "id": "8a8d5f15",
   "metadata": {},
   "source": [
    "#### #3c. Write a comment in your code that lists the five names of the employees returned."
   ]
  },
  {
   "cell_type": "raw",
   "id": "ed093d52",
   "metadata": {},
   "source": [
    "-- Alselm Cappello, Utz Mandell, Bouchung Schreiter, Baocai Kushner, Petter Stroustrup"
   ]
  },
  {
   "cell_type": "markdown",
   "id": "525c484b",
   "metadata": {},
   "source": [
    "#### #4. Try to think of your results as batches, sets, or pages. The first five results are your first page. The five after that would be your second page, etc. Update the query to find the tenth page of results.\n",
    "LIMIT and OFFSET can be used to create multiple pages of data. What is the relationship between OFFSET (number of results to skip), LIMIT (number of results per page), and the page number?"
   ]
  },
  {
   "cell_type": "raw",
   "id": "77e4a5ee",
   "metadata": {},
   "source": [
    "select *\n",
    "from employees\n",
    "where hire_date like '199%'\n",
    "order by hire_date\n",
    "limit 5 offset 45;"
   ]
  }
 ],
 "metadata": {
  "kernelspec": {
   "display_name": "Python 3 (ipykernel)",
   "language": "python",
   "name": "python3"
  },
  "language_info": {
   "codemirror_mode": {
    "name": "ipython",
    "version": 3
   },
   "file_extension": ".py",
   "mimetype": "text/x-python",
   "name": "python",
   "nbconvert_exporter": "python",
   "pygments_lexer": "ipython3",
   "version": "3.9.13"
  }
 },
 "nbformat": 4,
 "nbformat_minor": 5
}

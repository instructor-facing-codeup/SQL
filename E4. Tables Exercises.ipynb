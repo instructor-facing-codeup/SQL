{
 "cells": [
  {
   "cell_type": "markdown",
   "id": "8e0b76a3",
   "metadata": {},
   "source": [
    "# Tables Exercises"
   ]
  },
  {
   "cell_type": "markdown",
   "id": "bd1b8634",
   "metadata": {},
   "source": [
    "**Goals**:\n",
    "- Understand what a table is\n",
    "- Understand data types in MySQL\n",
    "- Understand how to create, show, describe and drop tables\n",
    "- Introduce primary keys\n",
    "- Understand how to use external sql scripts"
   ]
  },
  {
   "cell_type": "markdown",
   "id": "fbd12082",
   "metadata": {},
   "source": [
    "<hr style=\"border:2px solid gray\">"
   ]
  },
  {
   "cell_type": "markdown",
   "id": "1fa41388",
   "metadata": {},
   "source": [
    "<div class=\"alert alert-block alert-info\">\n",
    "<b>Note:</b> All of these exercises will be completed in SQL.</div>"
   ]
  },
  {
   "cell_type": "markdown",
   "id": "1ff6b307",
   "metadata": {},
   "source": [
    "1. Open Sequal Ace and login to the database server\n",
    "2. Save your work in a file named tables_exercises.sql\n",
    "3. Use the employees database. Write the SQL code necessary to do this.\n",
    "4. List all the tables in the database. Write the SQL code necessary to accomplish this.\n",
    "5. Explore the employees table. What different data types are present on this table?\n",
    "6. Which table(s) do you think contain a numeric type column? (Write this question and your answer in a comment)\n",
    "7. Which table(s) do you think contain a string type column? (Write this question and your answer in a comment)\n",
    "8. Which table(s) do you think contain a date type column? (Write this question and your answer in a comment)\n",
    "9. What is the relationship between the employees and the departments tables? (Write this question and your answer in a comment)\n",
    "10. Show the SQL that created the dept_manager table. Write the SQL it takes to show this as your exercise solution."
   ]
  },
  {
   "cell_type": "markdown",
   "id": "70d7361e",
   "metadata": {},
   "source": [
    "#### #3. Use the employees database. Write the SQL code necessary to do this. "
   ]
  },
  {
   "cell_type": "raw",
   "id": "583c4655",
   "metadata": {},
   "source": [
    "USE employees;"
   ]
  },
  {
   "cell_type": "markdown",
   "id": "67a377de",
   "metadata": {},
   "source": [
    "#### #4. List all the tables in the database. Write the SQL code necessary to accomplish this."
   ]
  },
  {
   "cell_type": "markdown",
   "id": "8cf30d8e",
   "metadata": {},
   "source": [
    "SHOW TABLES;"
   ]
  },
  {
   "cell_type": "markdown",
   "id": "015ef44d",
   "metadata": {},
   "source": [
    "#### #5. Explore the employees table. What different data types are present on this table?\n",
    "- Answer: int, date, varchar(14), varchar(16), enum('M','F'), date"
   ]
  },
  {
   "cell_type": "raw",
   "id": "e625589c",
   "metadata": {},
   "source": [
    "DESCRIBE employees;"
   ]
  },
  {
   "cell_type": "markdown",
   "id": "2b360107",
   "metadata": {},
   "source": [
    "#### #6. Which table(s) do you think contain a numeric type column? (Write this question and your answer in a comment)"
   ]
  },
  {
   "cell_type": "markdown",
   "id": "09afb77d",
   "metadata": {},
   "source": [
    "**Answer**: \n",
    "- all tables will contain a numeric type column"
   ]
  },
  {
   "cell_type": "markdown",
   "id": "f98cd3e9",
   "metadata": {},
   "source": [
    "#### #7. Which table(s) do you think contain a string type column? (Write this question and your answer in a comment)"
   ]
  },
  {
   "cell_type": "markdown",
   "id": "ee688fe1",
   "metadata": {},
   "source": [
    "**Answer**: \n",
    "- all tables except salaries will contain a string type column"
   ]
  },
  {
   "cell_type": "markdown",
   "id": "7ffba253",
   "metadata": {},
   "source": [
    "#### #8. Which table(s) do you think contain a date type column? (Write this question and your answer in a comment)"
   ]
  },
  {
   "cell_type": "markdown",
   "id": "c84cea5c",
   "metadata": {},
   "source": [
    "**Answer**:  \n",
    "- dept_manager\n",
    "- employees\n",
    "- salaries\n",
    "- titles "
   ]
  },
  {
   "cell_type": "markdown",
   "id": "febad599",
   "metadata": {},
   "source": [
    "#### #9. What is the relationship between the employees and the departments tables? (Write this question and your answer in a comment)"
   ]
  },
  {
   "cell_type": "markdown",
   "id": "73c6c4c6",
   "metadata": {},
   "source": [
    "**Answer**: \n",
    "- There is no direct apparent relationship between the employees and the departments table\n",
    "- There is a joiner table (dept_emp) that can connect an employee to their relevant department name"
   ]
  },
  {
   "cell_type": "markdown",
   "id": "f57eea18",
   "metadata": {},
   "source": [
    "#### #10. Show the SQL that created the dept_manager table. Write the SQL it takes to show this as your exercise solution."
   ]
  },
  {
   "cell_type": "raw",
   "id": "1e1bc339",
   "metadata": {},
   "source": [
    "/*\n",
    "CREATE TABLE `dept_manager` (\n",
    "  `emp_no` int NOT NULL,\n",
    "  `dept_no` char(4) NOT NULL,\n",
    "  `from_date` date NOT NULL,\n",
    "  `to_date` date NOT NULL,\n",
    "  PRIMARY KEY (`emp_no`,`dept_no`),\n",
    "  KEY `dept_no` (`dept_no`),\n",
    "  CONSTRAINT `dept_manager_ibfk_1` FOREIGN KEY (`emp_no`) REFERENCES `employees` (`emp_no`) ON DELETE CASCADE ON UPDATE RESTRICT,\n",
    "  CONSTRAINT `dept_manager_ibfk_2` FOREIGN KEY (`dept_no`) REFERENCES `departments` (`dept_no`) ON DELETE CASCADE ON UPDATE RESTRICT\n",
    ") ENGINE=InnoDB DEFAULT CHARSET=latin1\n",
    "*/"
   ]
  },
  {
   "cell_type": "code",
   "execution_count": null,
   "id": "ba443172",
   "metadata": {},
   "outputs": [],
   "source": [
    "\n"
   ]
  }
 ],
 "metadata": {
  "kernelspec": {
   "display_name": "Python 3 (ipykernel)",
   "language": "python",
   "name": "python3"
  },
  "language_info": {
   "codemirror_mode": {
    "name": "ipython",
    "version": 3
   },
   "file_extension": ".py",
   "mimetype": "text/x-python",
   "name": "python",
   "nbconvert_exporter": "python",
   "pygments_lexer": "ipython3",
   "version": "3.9.13"
  }
 },
 "nbformat": 4,
 "nbformat_minor": 5
}

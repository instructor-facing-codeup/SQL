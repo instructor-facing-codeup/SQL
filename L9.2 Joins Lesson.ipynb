{
 "cells": [
  {
   "cell_type": "markdown",
   "id": "ec7232b6",
   "metadata": {},
   "source": [
    "# L9.2 Joins Lesson\n"
   ]
  },
  {
   "cell_type": "markdown",
   "id": "e7fec1fa",
   "metadata": {},
   "source": [
    "**Lesson Goals**:\n",
    "\n",
    "- Understand what it means to join tables\n",
    "- Understand the difference between a left and right join\n",
    "- Understand how to join multiple tables to a query"
   ]
  },
  {
   "cell_type": "code",
   "execution_count": null,
   "id": "57771b31",
   "metadata": {},
   "outputs": [],
   "source": []
  }
 ],
 "metadata": {
  "kernelspec": {
   "display_name": "Python 3 (ipykernel)",
   "language": "python",
   "name": "python3"
  },
  "language_info": {
   "codemirror_mode": {
    "name": "ipython",
    "version": 3
   },
   "file_extension": ".py",
   "mimetype": "text/x-python",
   "name": "python",
   "nbconvert_exporter": "python",
   "pygments_lexer": "ipython3",
   "version": "3.9.13"
  }
 },
 "nbformat": 4,
 "nbformat_minor": 5
}

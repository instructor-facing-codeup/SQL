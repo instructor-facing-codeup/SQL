{
 "cells": [
  {
   "cell_type": "markdown",
   "id": "0302ae7e",
   "metadata": {},
   "source": [
    "# Case Statement Lesson"
   ]
  },
  {
   "cell_type": "markdown",
   "id": "11d6ea2b",
   "metadata": {},
   "source": [
    "- lets use the chipotle database"
   ]
  },
  {
   "cell_type": "raw",
   "id": "488943d0",
   "metadata": {},
   "source": [
    "show databases;\n",
    "\n",
    "use chipotle;\n",
    "\n",
    "show tables;\n",
    "\n",
    "select * from orders;"
   ]
  },
  {
   "cell_type": "markdown",
   "id": "b2669484",
   "metadata": {},
   "source": [
    "- lets look at all the chicken orders"
   ]
  },
  {
   "cell_type": "raw",
   "id": "21fd6d67",
   "metadata": {},
   "source": [
    "select distinct item_name from orders \n",
    "where item_name like '%chicken%';"
   ]
  },
  {
   "cell_type": "markdown",
   "id": "2de4947d",
   "metadata": {},
   "source": [
    "<hr style=\"border:1px solid gray\">"
   ]
  },
  {
   "cell_type": "markdown",
   "id": "79ee8f24",
   "metadata": {},
   "source": [
    "### if function"
   ]
  },
  {
   "cell_type": "raw",
   "id": "a83967cb",
   "metadata": {},
   "source": [
    "/*\n",
    "if(condition, value if true, value if false)\n",
    "*/"
   ]
  },
  {
   "cell_type": "markdown",
   "id": "e7e958ee",
   "metadata": {},
   "source": [
    "- if statements are generally best for T/F  "
   ]
  },
  {
   "cell_type": "raw",
   "id": "58da0326",
   "metadata": {},
   "source": [
    "\n",
    "select item_name, if(item_name = 'Chicken Bowl', 'yes', 'no') as is_chicken_bowl\n",
    "from orders;\n",
    "\n",
    "select distinct item_name, if(item_name like '%Chicken%', 'yes', 'no') as has_chicken\n",
    "from orders\n",
    "order by item_name;\n",
    "\n",
    "select distinct item_name, if(item_name like '%Chicken%', 'True', 'False') as has_chicken\n",
    "from orders\n",
    "order by item_name;\n",
    "\n",
    "select distinct item_name, if(item_name like '%Chicken%', True, False) as has_chicken\n",
    "from orders\n",
    "order by item_name;"
   ]
  },
  {
   "cell_type": "markdown",
   "id": "2734b631",
   "metadata": {},
   "source": [
    "- we dont have to explictly write out if when T/F"
   ]
  },
  {
   "cell_type": "raw",
   "id": "210bc883",
   "metadata": {},
   "source": [
    "select distinct item_name, item_name like '%Chicken%' as has_chicken\n",
    "from orders\n",
    "order by item_name;"
   ]
  },
  {
   "cell_type": "markdown",
   "id": "1118cb4e",
   "metadata": {},
   "source": [
    "- subquery to count chicken items"
   ]
  },
  {
   "cell_type": "raw",
   "id": "d504058e",
   "metadata": {},
   "source": [
    "select sum(has_chicken) as total_chicken_items\n",
    "from \n",
    "\t(select distinct item_name, item_name like '%Chicken%' as has_chicken\n",
    "\tfrom orders\n",
    "\torder by item_name) as a\n",
    ";"
   ]
  },
  {
   "cell_type": "markdown",
   "id": "6e424ef2",
   "metadata": {},
   "source": [
    "<hr style=\"border:1px solid gray\">"
   ]
  },
  {
   "cell_type": "markdown",
   "id": "aad8b9c0",
   "metadata": {},
   "source": [
    "### case statement - option 1"
   ]
  },
  {
   "cell_type": "raw",
   "id": "2a46cfef",
   "metadata": {},
   "source": [
    "/* \n",
    "case column\n",
    "\twhen condition_a then value_a\n",
    "\twhen condition_b then value_b\n",
    "\telse value_c\n",
    "end as new_column_name \n",
    "\t\n",
    "*/"
   ]
  },
  {
   "cell_type": "markdown",
   "id": "cffb06a7",
   "metadata": {},
   "source": [
    "- the conditions are checking one column\n",
    "- the conditions are checking for equality\n",
    "- can check more than T/F"
   ]
  },
  {
   "cell_type": "raw",
   "id": "d7b347db",
   "metadata": {},
   "source": [
    "select distinct item_name from orders;"
   ]
  },
  {
   "cell_type": "markdown",
   "id": "63615572",
   "metadata": {},
   "source": [
    "- lets find the bowls"
   ]
  },
  {
   "cell_type": "raw",
   "id": "53010a5f",
   "metadata": {},
   "source": [
    "select distinct item_name,\n",
    "\tcase item_name\n",
    "\t\t\twhen 'Chicken Bowl' then 'yes_chicken'\n",
    "\t\t\twhen 'Steak Bowl' then 'yes_steak'\n",
    "\t\t\twhen '%bowl%' then 'yes_other' -- ONLY checking for equality, will not find anything\n",
    "\t\t\telse 'other'\n",
    "\tend 'is_bowl'\n",
    "from orders; "
   ]
  },
  {
   "cell_type": "raw",
   "id": "f94ad1ae",
   "metadata": {},
   "source": [
    "select distinct item_name,\n",
    "\tcase item_name\n",
    "\t\t\twhen 'Chicken Bowl' then 'yes_chicken'\n",
    "\t\t\twhen 'Steak Bowl' then 'yes_steak'\n",
    "\t\t\telse concat('this_is_not_a_bowl_',replace(lower(item_name), ' ', '_'))\n",
    "\tend 'is_bowl'\n",
    "from orders; "
   ]
  },
  {
   "cell_type": "markdown",
   "id": "c37de3fe",
   "metadata": {},
   "source": [
    "<hr style=\"border:1px solid gray\">"
   ]
  },
  {
   "cell_type": "markdown",
   "id": "c681cea7",
   "metadata": {},
   "source": [
    "### case statement - option 2"
   ]
  },
  {
   "cell_type": "raw",
   "id": "bf25c505",
   "metadata": {},
   "source": [
    "/* \n",
    "case \n",
    "\twhen column_a condition_a then value_a\n",
    "\twhen column_b condition_b then value_b\n",
    "\telse value_c\n",
    "end as new_column_name \n",
    "*/\n"
   ]
  },
  {
   "cell_type": "markdown",
   "id": "8ecfdf30",
   "metadata": {},
   "source": [
    "- more flexibility \n",
    "- multiple columns check\n",
    "- can utilize different operators\n",
    "- generally preferred"
   ]
  },
  {
   "cell_type": "raw",
   "id": "7e9e69b0",
   "metadata": {},
   "source": [
    "select * from orders;"
   ]
  },
  {
   "cell_type": "markdown",
   "id": "77dc5db7",
   "metadata": {},
   "source": [
    "- lets find bowls again"
   ]
  },
  {
   "cell_type": "raw",
   "id": "a87b0b0a",
   "metadata": {},
   "source": [
    "select distinct order_id, item_name,\n",
    "\tcase\n",
    "\t\twhen item_name like '%bowl%' then 'is_bowl'\n",
    "\t\twhen order_id = 1 then 'first_order'\n",
    "\t\twhen item_name = 'Izze' then 'found_izze'\n",
    "-- \t\twhen order_id = 1 then 'first_order'\n",
    "\t\telse 'not_a_bowl'\n",
    "\tend as 'where_are_the_bowls'\n",
    "from orders;\n"
   ]
  },
  {
   "cell_type": "markdown",
   "id": "ca715fb3",
   "metadata": {},
   "source": [
    "- lets group our quantities\n"
   ]
  },
  {
   "cell_type": "raw",
   "id": "8502e5d5",
   "metadata": {},
   "source": [
    "select quantity, count(*)\n",
    "from orders\n",
    "group by quantity\n",
    "order by quantity;\n",
    "\n",
    "select * from orders;"
   ]
  },
  {
   "cell_type": "markdown",
   "id": "70b78039",
   "metadata": {},
   "source": [
    "- the categories for how many times a person ordered a specific item in an order"
   ]
  },
  {
   "cell_type": "raw",
   "id": "17c6d0ba",
   "metadata": {},
   "source": [
    "select distinct quantity,\n",
    "\t\tcase \n",
    "\t\t\twhen quantity >= 5 then 'big_orders'\n",
    "\t\t\twhen quantity >= 2 then 'middle_size_orders'\n",
    "-- \t\t\t when quantity = 1 then 'single_orders'\n",
    "\t\t\telse 'single_orders'\n",
    "\t\tend as 'order_size'\n",
    "from orders\n",
    "order by quantity;\n",
    "\n",
    "\n",
    "select order_size_by_item, count(*) as count_of_size\n",
    "from \n",
    "\t(select quantity,\n",
    "\t\tcase \n",
    "\t\t\twhen quantity >= 5 then 'big_orders'\n",
    "\t\t\twhen quantity >= 2 then 'middle_size_orders'\n",
    "\t\t\telse 'single_orders'\n",
    "\t\tend as 'order_size_by_item'\n",
    "\tfrom orders) as o\n",
    "group by order_size_by_item\n",
    ";"
   ]
  },
  {
   "cell_type": "markdown",
   "id": "13a62033",
   "metadata": {},
   "source": [
    "<hr style=\"border:1px solid gray\">"
   ]
  },
  {
   "cell_type": "markdown",
   "id": "a5da4dd7",
   "metadata": {},
   "source": [
    "### pivot table"
   ]
  },
  {
   "cell_type": "raw",
   "id": "66dde619",
   "metadata": {},
   "source": [
    "select * from orders;"
   ]
  },
  {
   "cell_type": "markdown",
   "id": "987c4452",
   "metadata": {},
   "source": [
    "- lets find all the chicken orders"
   ]
  },
  {
   "cell_type": "raw",
   "id": "6a1bb164",
   "metadata": {},
   "source": [
    "select distinct item_name from orders where item_name like '%chicken%';"
   ]
  },
  {
   "cell_type": "markdown",
   "id": "c4cc3c2b",
   "metadata": {},
   "source": [
    "- look at chicken orders and quantity"
   ]
  },
  {
   "cell_type": "raw",
   "id": "33b3b32d",
   "metadata": {},
   "source": [
    "select quantity, item_name \n",
    "from orders \n",
    "where item_name like '%chicken%';"
   ]
  },
  {
   "cell_type": "markdown",
   "id": "a845c878",
   "metadata": {},
   "source": [
    "- building all the columns "
   ]
  },
  {
   "cell_type": "raw",
   "id": "4b5df74d",
   "metadata": {},
   "source": [
    "select quantity, item_name,\n",
    "\tcase when item_name = 'Chicken Bowl' then item_name end as 'Chicken Bowl',\n",
    "\tcase when item_name = 'Chicken Crispy Tacos' then item_name end as 'Chicken Crispy Tacos',\n",
    "\tcase when item_name = 'Chicken Soft Tacos' then item_name end as 'Chicken Soft Tacos',\n",
    "\tcase when item_name = 'Chicken Burrito' then item_name end as 'Chicken Burrito',\n",
    "\tcase when item_name = 'Chicken Salad Bowl' then item_name end as 'Chicken Salad Bowl',\n",
    "\tcase when item_name = 'Chicken Salad' then item_name end as 'Chicken Salad'\n",
    "from orders \n",
    "where item_name like '%chicken%';"
   ]
  },
  {
   "cell_type": "markdown",
   "id": "0bf641a1",
   "metadata": {},
   "source": [
    "- adding groupby and count"
   ]
  },
  {
   "cell_type": "raw",
   "id": "2c9a1e2f",
   "metadata": {},
   "source": [
    "select quantity,\n",
    "\tcount(case when item_name = 'Chicken Bowl' then item_name end) as 'Chicken Bowl',\n",
    "\tcount(case when item_name = 'Chicken Crispy Tacos' then item_name end) as 'Chicken Crispy Tacos',\n",
    "\tcount(case when item_name = 'Chicken Soft Tacos' then item_name end) as 'Chicken Soft Tacos',\n",
    "\tcount(case when item_name = 'Chicken Burrito' then item_name end) as 'Chicken Burrito',\n",
    "\tcount(case when item_name = 'Chicken Salad Bowl' then item_name end) as 'Chicken Salad Bowl',\n",
    "\tcount(case when item_name = 'Chicken Salad' then item_name end) as 'Chicken Salad'\n",
    "from orders \n",
    "where item_name like '%chicken%'\n",
    "group by quantity\n",
    "order by quantity\n",
    ";"
   ]
  },
  {
   "cell_type": "markdown",
   "id": "4f4df162",
   "metadata": {},
   "source": [
    "- the total counts for chicken "
   ]
  },
  {
   "cell_type": "raw",
   "id": "b5be8066",
   "metadata": {},
   "source": [
    "select item_name, count(*)\n",
    "from orders\n",
    "where item_name like '%Chicken%'\n",
    "group by item_name"
   ]
  }
 ],
 "metadata": {
  "kernelspec": {
   "display_name": "Python 3 (ipykernel)",
   "language": "python",
   "name": "python3"
  },
  "language_info": {
   "codemirror_mode": {
    "name": "ipython",
    "version": 3
   },
   "file_extension": ".py",
   "mimetype": "text/x-python",
   "name": "python",
   "nbconvert_exporter": "python",
   "pygments_lexer": "ipython3",
   "version": "3.9.13"
  }
 },
 "nbformat": 4,
 "nbformat_minor": 5
}

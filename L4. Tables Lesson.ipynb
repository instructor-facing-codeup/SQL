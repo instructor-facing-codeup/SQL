{
 "cells": [
  {
   "cell_type": "markdown",
   "id": "7d7c3434",
   "metadata": {},
   "source": [
    "# Tables Lesson"
   ]
  },
  {
   "cell_type": "code",
   "execution_count": null,
   "id": "c1e9d35b",
   "metadata": {},
   "outputs": [],
   "source": []
  }
 ],
 "metadata": {
  "kernelspec": {
   "display_name": "Python 3 (ipykernel)",
   "language": "python",
   "name": "python3"
  },
  "language_info": {
   "codemirror_mode": {
    "name": "ipython",
    "version": 3
   },
   "file_extension": ".py",
   "mimetype": "text/x-python",
   "name": "python",
   "nbconvert_exporter": "python",
   "pygments_lexer": "ipython3",
   "version": "3.9.13"
  }
 },
 "nbformat": 4,
 "nbformat_minor": 5
}

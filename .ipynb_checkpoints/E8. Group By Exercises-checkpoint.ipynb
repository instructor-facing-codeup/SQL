{
 "cells": [
  {
   "cell_type": "markdown",
   "id": "484f2df2",
   "metadata": {},
   "source": [
    "# Group By Exercises\n",
    "group_by_exercises.sql"
   ]
  },
  {
   "cell_type": "markdown",
   "id": "3f18f658",
   "metadata": {},
   "source": [
    "Use the GROUP BY clause to create more complex queries\n",
    "\n",
    "1. Create a new file named group_by_exercises.sql\n",
    "\n",
    "2. In your script, use DISTINCT to find the unique titles in the titles table. How many unique titles have there ever been? Answer that in a comment in your SQL file.\n",
    "\n",
    "3. Write a query to to find a list of all unique last names of all employees that start and end with 'E' using GROUP BY.\n",
    "\n",
    "4. Write a query to to find all unique combinations of first and last names of all employees whose last names start and end with 'E'.\n",
    "\n",
    "5. Write a query to find the unique last names with a 'q' but not 'qu'. Include those names in a comment in your sql code.\n",
    "\n",
    "6. Add a COUNT() to your results (the query above) to find the number of employees with the same last name.\n",
    "\n",
    "7. Find all all employees with first names 'Irena', 'Vidya', or 'Maya'. Use COUNT(*) and GROUP BY to find the number of employees for each gender with those names.\n",
    "\n",
    "8. Using your query that generates a username for all of the employees, generate a count employees for each unique username. Are there any duplicate usernames? BONUS: How many duplicate usernames are there?\n",
    "\n",
    "9. Bonus: More practice with aggregate functions:\n",
    "\n",
    "- Determine the historic average salary for each employee. When you hear, read, or think \"for each\" with regard to SQL, you'll probably be grouping by that exact column.\n",
    "- Using the dept_emp table, count how many current employees work in each department. The query result should show 9 rows, one for each department and the employee count.\n",
    "- Determine how many different salaries each employee has had. This includes both historic and current.\n",
    "- Find the maximum salary for each employee.\n",
    "- Find the minimum salary for each employee.\n",
    "- Find the standard deviation of salaries for each employee.\n",
    "- Now find the max salary for each employee where that max salary is greater than $150,000.\n",
    "- Find the average salary for each employee where that average salary is between $80k and $90k."
   ]
  },
  {
   "cell_type": "markdown",
   "id": "15d52996",
   "metadata": {},
   "source": [
    "<hr style=\"border:2px solid gray\">"
   ]
  },
  {
   "cell_type": "markdown",
   "id": "e534f6ba",
   "metadata": {},
   "source": [
    "#### #2. In your script, use DISTINCT to find the unique titles in the titles table. How many unique titles have there ever been? Answer that in a comment in your SQL file.\n",
    "Answer: 7 distinct titles"
   ]
  },
  {
   "cell_type": "raw",
   "id": "8867c257",
   "metadata": {},
   "source": [
    "SELECT DISTINCT title\n",
    "FROM titles;\n"
   ]
  },
  {
   "cell_type": "markdown",
   "id": "eba48bd9",
   "metadata": {},
   "source": [
    "#### #3. Write a query to to find a list of all unique last names of all employees that start and end with 'E' using GROUP BY."
   ]
  },
  {
   "cell_type": "raw",
   "id": "8311cc8b",
   "metadata": {},
   "source": [
    "SELECT last_name\n",
    "FROM employees\n",
    "WHERE last_name LIKE 'e%e'\n",
    "GROUP BY last_name;"
   ]
  },
  {
   "cell_type": "markdown",
   "id": "94e2f945",
   "metadata": {},
   "source": [
    "#### #4. Write a query to to find all unique combinations of first and last names of all employees whose last names start and end with 'E'."
   ]
  },
  {
   "cell_type": "raw",
   "id": "f9e026c3",
   "metadata": {},
   "source": [
    "SELECT first_name, last_name\n",
    "FROM employees\n",
    "WHERE last_name LIKE 'e%e'\n",
    "GROUP BY first_name, last_name;"
   ]
  },
  {
   "cell_type": "markdown",
   "id": "4a963cb1",
   "metadata": {},
   "source": [
    "#### #5. Write a query to find the unique last names with a 'q' but not 'qu'. Include those names in a comment in your sql code."
   ]
  },
  {
   "cell_type": "raw",
   "id": "c3d0fa3e",
   "metadata": {},
   "source": [
    "SELECT last_name\n",
    "FROM employees\n",
    "WHERE last_name LIKE '%q%' AND last_name NOT LIKE '%qu%'\n",
    "GROUP BY last_name;"
   ]
  },
  {
   "cell_type": "markdown",
   "id": "fc9f4ed8",
   "metadata": {},
   "source": [
    "#### #6. Add a COUNT() to your results (the query above) to find the number of employees with the same last name."
   ]
  },
  {
   "cell_type": "raw",
   "id": "18554263",
   "metadata": {},
   "source": [
    "SELECT last_name, count(*)\n",
    "FROM employees\n",
    "WHERE last_name LIKE '%q%' AND last_name NOT LIKE '%qu%'\n",
    "GROUP BY last_name\n",
    "ORDER BY count(*);"
   ]
  },
  {
   "cell_type": "markdown",
   "id": "2e428893",
   "metadata": {},
   "source": [
    "#### #7. Find all all employees with first names 'Irena', 'Vidya', or 'Maya'. Use COUNT(*) and GROUP BY to find the number of employees for each gender with those names."
   ]
  },
  {
   "cell_type": "raw",
   "id": "df7c81f0",
   "metadata": {},
   "source": [
    "SELECT *\n",
    "FROM employees\n",
    "WHERE first_name IN ('Irena', 'Vidya', 'Maya')"
   ]
  },
  {
   "cell_type": "markdown",
   "id": "71aa5870",
   "metadata": {},
   "source": [
    "- Use COUNT(*) and GROUP BY to find the number of employees for each gender with those names.\n"
   ]
  },
  {
   "cell_type": "raw",
   "id": "c438d801",
   "metadata": {},
   "source": [
    "SELECT first_name, gender, count(*)\n",
    "FROM employees\n",
    "WHERE first_name IN ('Irena', 'Vidya', 'Maya')\n",
    "GROUP BY first_name, gender;"
   ]
  },
  {
   "cell_type": "markdown",
   "id": "3c86abcc",
   "metadata": {},
   "source": [
    "#### #8. Using your query that generates a username for all of the employees, generate a count employees for each unique username. Are there any duplicate usernames? BONUS: How many duplicate usernames are there?"
   ]
  },
  {
   "cell_type": "code",
   "execution_count": null,
   "id": "203f593e",
   "metadata": {},
   "outputs": [],
   "source": [
    "SELECT count(*) AS total_count, lower(\n",
    "concat(\n",
    "substr(first_name, 1, 1), \n",
    "substr(last_name, 1,4), \n",
    "'_', \n",
    "substr(birth_date, 6,2), \n",
    "substr(birth_date, 3,2))) \n",
    "AS username\n",
    "FROM employees\n",
    "GROUP BY username\n",
    "HAVING total_count > 1;"
   ]
  },
  {
   "cell_type": "markdown",
   "id": "f822eef6",
   "metadata": {},
   "source": [
    "#### #9. Bonus: More practice with aggregate functions:\n",
    "\n",
    "- Determine the historic average salary for each employee. When you hear, read, or think \"for each\" with regard to SQL, you'll probably be grouping by that exact column.\n",
    "- Using the dept_emp table, count how many current employees work in each department. The query result should show 9 rows, one for each department and the employee count.\n",
    "- Determine how many different salaries each employee has had. This includes both historic and current.\n",
    "- Find the maximum salary for each employee.\n",
    "- Find the minimum salary for each employee.\n",
    "- Find the standard deviation of salaries for each employee.\n",
    "- Now find the max salary for each employee where that max salary is greater than $150,000.\n",
    "- Find the average salary for each employee where that average salary is between $80k and $90k."
   ]
  },
  {
   "cell_type": "code",
   "execution_count": null,
   "id": "e2d6dd85",
   "metadata": {},
   "outputs": [],
   "source": []
  }
 ],
 "metadata": {
  "kernelspec": {
   "display_name": "Python 3 (ipykernel)",
   "language": "python",
   "name": "python3"
  },
  "language_info": {
   "codemirror_mode": {
    "name": "ipython",
    "version": 3
   },
   "file_extension": ".py",
   "mimetype": "text/x-python",
   "name": "python",
   "nbconvert_exporter": "python",
   "pygments_lexer": "ipython3",
   "version": "3.9.13"
  }
 },
 "nbformat": 4,
 "nbformat_minor": 5
}

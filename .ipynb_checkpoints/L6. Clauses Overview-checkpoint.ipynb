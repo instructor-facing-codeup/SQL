{
 "cells": [
  {
   "cell_type": "markdown",
   "id": "77d3c7c9",
   "metadata": {},
   "source": [
    "# Clauses Overview"
   ]
  },
  {
   "cell_type": "markdown",
   "id": "8cb4b5b0",
   "metadata": {},
   "source": [
    "<div class=\"alert alert-block alert-info\">\n",
    "    <b>Note:</b> <i>In this section we will talk about <b>clauses</b>, further stipulations added to our queries that determine which rows are targeted.</i></div>\n"
   ]
  },
  {
   "cell_type": "markdown",
   "id": "8a55a3f7",
   "metadata": {},
   "source": [
    "This overview will include:\n",
    "- [L6.1 Where Lesson](#L6.1-Where-Lesson)\n",
    "- [L6.2 Order By Lesson](#L6.2-Order-By-Lesson)\n",
    "- [L6.3 Limit Lesson](#L6.3-Limit-Lesson)"
   ]
  },
  {
   "cell_type": "markdown",
   "id": "7598c27b",
   "metadata": {},
   "source": [
    "<hr style=\"border:2px solid gray\">"
   ]
  },
  {
   "cell_type": "markdown",
   "id": "368e0bba",
   "metadata": {},
   "source": [
    "## L6.1 Where Lesson"
   ]
  },
  {
   "cell_type": "markdown",
   "id": "f343bb05",
   "metadata": {},
   "source": [
    "**Lesson Goals**:\n",
    "- Introduce the WHERE clause\n",
    "- Understand how to combine WHERE clauses with AND and OR to create more complex queries"
   ]
  },
  {
   "cell_type": "raw",
   "id": "a354766f",
   "metadata": {},
   "source": [
    "use employees;\n",
    "\n",
    "SELECT * \n",
    "FROM employees\n",
    "WHERE hire_date >= '1990-01-01';"
   ]
  },
  {
   "cell_type": "markdown",
   "id": "5996653c",
   "metadata": {},
   "source": [
    "#### TO FIND THOSE HIRED IN THE 1990'S"
   ]
  },
  {
   "cell_type": "raw",
   "id": "232d3485",
   "metadata": {},
   "source": [
    "select * \n",
    "from employees \n",
    "where hire_date LIKE '199%';"
   ]
  },
  {
   "cell_type": "markdown",
   "id": "d726f28e",
   "metadata": {},
   "source": [
    "#### TO FIND THOSE HIRED IN THE MONTH OF OCTOBER"
   ]
  },
  {
   "cell_type": "raw",
   "id": "97a3f331",
   "metadata": {},
   "source": [
    "SELECT * \n",
    "FROM employees\n",
    "WHERE hire_date LIKE '%-10-%';"
   ]
  },
  {
   "cell_type": "markdown",
   "id": "9a8c0e5f",
   "metadata": {},
   "source": [
    "#### FIND THOSE WHOSE FIRST NAME STARTS WITTH S"
   ]
  },
  {
   "cell_type": "raw",
   "id": "ab0e3c7d",
   "metadata": {},
   "source": [
    "SELECT * \n",
    "FROM employees \n",
    "WHERE first_name LIKE 'S%';"
   ]
  },
  {
   "cell_type": "markdown",
   "id": "cc01c00c",
   "metadata": {},
   "source": [
    "#### FIND THOSE WHOSE FIRST NAME STARTS WITH S AND ENDS WITH S"
   ]
  },
  {
   "cell_type": "raw",
   "id": "16752c49",
   "metadata": {},
   "source": [
    "SELECT * \n",
    "FROM employees \n",
    "WHERE first_name LIKE 'S%s';"
   ]
  },
  {
   "cell_type": "raw",
   "id": "279fdcce",
   "metadata": {},
   "source": [
    "SELECT * \n",
    "FROM employees \n",
    "WHERE first_name LIKE 'S%' AND last_name LIKE 'S%';"
   ]
  },
  {
   "cell_type": "markdown",
   "id": "994ef268",
   "metadata": {},
   "source": [
    "#### TO FIND THOSE WHOSE FIRST NAME STARTS WITH S OR LAST NAME STARTS WITH S"
   ]
  },
  {
   "cell_type": "raw",
   "id": "350acda8",
   "metadata": {},
   "source": [
    "SELECT * \n",
    "FROM employees \n",
    "WHERE first_name LIKE 'S%' OR last_name LIKE 'S%';"
   ]
  },
  {
   "cell_type": "markdown",
   "id": "57350b22",
   "metadata": {},
   "source": [
    "#### TO FIND THOSE NOT HIRED IN THE MONTH OF OCTOBER"
   ]
  },
  {
   "cell_type": "raw",
   "id": "d230c25a",
   "metadata": {},
   "source": [
    "SELECT * \n",
    "FROM employees\n",
    "WHERE hire_date NOT LIKE '%-10-%';"
   ]
  },
  {
   "cell_type": "markdown",
   "id": "a7505de8",
   "metadata": {},
   "source": [
    "#### TO FIND THOSE HIRED BETWEEN 1990 AND 1999"
   ]
  },
  {
   "cell_type": "raw",
   "id": "14932f86",
   "metadata": {},
   "source": [
    "SELECT * \n",
    "FROM employees \n",
    "WHERE hire_date BETWEEN '1990-01-01' AND '1999-12-31';"
   ]
  },
  {
   "cell_type": "markdown",
   "id": "47e47dac",
   "metadata": {},
   "source": [
    "#### FIND ALL THOSE WHOSE LAST NAME IS EITHER FOOTE OR SIDOU"
   ]
  },
  {
   "cell_type": "raw",
   "id": "d4586512",
   "metadata": {},
   "source": [
    "SELECT *\n",
    "FROM employees \n",
    "WHERE last_name = 'Foote' OR last_name = 'Sidou';"
   ]
  },
  {
   "cell_type": "raw",
   "id": "9d76296d",
   "metadata": {},
   "source": [
    "SELECT *\n",
    "FROM employees\n",
    "WHERE last_name IN ('Foote', 'Sidou');"
   ]
  },
  {
   "cell_type": "markdown",
   "id": "32947a68",
   "metadata": {},
   "source": [
    "#### ANY RECORDS WHERE HIRE_DATE IS NULL?"
   ]
  },
  {
   "cell_type": "raw",
   "id": "604bfdae",
   "metadata": {},
   "source": [
    "SELECT *\n",
    "FROM employees\n",
    "WHERE hire_date IS NULL;"
   ]
  },
  {
   "cell_type": "markdown",
   "id": "bcad96f1",
   "metadata": {},
   "source": [
    "#### ANY RECORDS WHERE HIRE_DATE IS not NULL?"
   ]
  },
  {
   "cell_type": "raw",
   "id": "e495048a",
   "metadata": {},
   "source": [
    "SELECT *\n",
    "FROM employees\n",
    "WHERE hire_date IS NOT NULL;"
   ]
  },
  {
   "cell_type": "markdown",
   "id": "11a6ec4d",
   "metadata": {},
   "source": [
    "#### FIND EMPLOYEES WHO WERE HIRED IN THE 90'S AND FIRST NAME STARTS WITH S OR LAST NAME STARTS WITH 'S'"
   ]
  },
  {
   "cell_type": "raw",
   "id": "3c74e79e",
   "metadata": {},
   "source": [
    "SELECT *\n",
    "FROM employees\n",
    "WHERE hire_date BETWEEN '1990-01-01' AND '1999-12-31' \n",
    "\tAND (first_name LIKE 'S%' OR last_name LIKE 'S%');\n",
    "\t\n",
    "\t"
   ]
  },
  {
   "cell_type": "markdown",
   "id": "95b4d2c2",
   "metadata": {},
   "source": [
    "<hr style=\"border:2px solid gray\">"
   ]
  },
  {
   "cell_type": "markdown",
   "id": "504e1aa6",
   "metadata": {},
   "source": [
    "## L6.2 Order By Lesson"
   ]
  },
  {
   "cell_type": "markdown",
   "id": "73925a80",
   "metadata": {},
   "source": [
    "**Lesson Goals**:\n",
    "- Understand how to use an ORDER BY clause\n",
    "- Understand how to chain multiple ORDER BY clauses"
   ]
  },
  {
   "cell_type": "markdown",
   "id": "7f4367a1",
   "metadata": {},
   "source": [
    "#### EMPLOYEES HIRED IN THE 90'S, ORDER BY HIRE_DATE ASCENDING"
   ]
  },
  {
   "cell_type": "raw",
   "id": "722b3c51",
   "metadata": {},
   "source": [
    "SELECT * \n",
    "FROM employees \n",
    "WHERE hire_date BETWEEN '1990-01-01' and '1999-12-31'\n",
    "ORDER BY hire_date asc;"
   ]
  },
  {
   "cell_type": "raw",
   "id": "026cd657",
   "metadata": {},
   "source": [
    "SELECT * \n",
    "FROM employees \n",
    "WHERE hire_date BETWEEN '1990-01-01' AND '1999-12-31'\n",
    "ORDER BY hire_date DESC;"
   ]
  },
  {
   "cell_type": "raw",
   "id": "07bf1108",
   "metadata": {},
   "source": [
    "SELECT *\n",
    "FROM employees\n",
    "WHERE hire_date BETWEEN '1990-01-01' AND '1999-12-31'\n",
    "ORDER BY hire_date DESC, gender ASC;"
   ]
  },
  {
   "cell_type": "markdown",
   "id": "10545db2",
   "metadata": {},
   "source": [
    "#### ALL MALES FIRST BY HIRE_DATE AND THEN ALL THE FEMALES BY HIRE DATE"
   ]
  },
  {
   "cell_type": "raw",
   "id": "30505192",
   "metadata": {},
   "source": [
    "SELECT *\n",
    "FROM employees\n",
    "WHERE hire_date BETWEEN '1990-01-01' AND '1999-12-31'\n",
    "ORDER BY gender ASC, hire_date DESC;"
   ]
  },
  {
   "cell_type": "markdown",
   "id": "8265749e",
   "metadata": {},
   "source": [
    "<hr style=\"border:2px solid gray\">"
   ]
  },
  {
   "cell_type": "markdown",
   "id": "885c32a9",
   "metadata": {},
   "source": [
    "## L6.3 Limit Lesson"
   ]
  },
  {
   "cell_type": "markdown",
   "id": "2ecdafb1",
   "metadata": {},
   "source": [
    "**Lesson Goals**:\n",
    "- Understand how to get query results in batches using the LIMIT clause"
   ]
  },
  {
   "cell_type": "markdown",
   "id": "2d506d6e",
   "metadata": {},
   "source": [
    "#### ADDING LIMITS TO OUTPUT\n",
    "\n",
    "- find the oldest employee hired in 1990"
   ]
  },
  {
   "cell_type": "raw",
   "id": "1f96fe90",
   "metadata": {},
   "source": [
    "SELECT *\n",
    "FROM employees\n",
    "WHERE hire_date LIKE '1990%'\n",
    "ORDER BY birth_date ASC, first_name ASC\n",
    "LIMIT 5;\n",
    "\n",
    "SELECT *\n",
    "FROM employees\n",
    "WHERE hire_date LIKE '1990%'\n",
    "ORDER BY birth_date ASC, first_name ASC\n",
    "LIMIT 5 OFFSET 3;"
   ]
  }
 ],
 "metadata": {
  "kernelspec": {
   "display_name": "Python 3 (ipykernel)",
   "language": "python",
   "name": "python3"
  },
  "language_info": {
   "codemirror_mode": {
    "name": "ipython",
    "version": 3
   },
   "file_extension": ".py",
   "mimetype": "text/x-python",
   "name": "python",
   "nbconvert_exporter": "python",
   "pygments_lexer": "ipython3",
   "version": "3.9.13"
  }
 },
 "nbformat": 4,
 "nbformat_minor": 5
}

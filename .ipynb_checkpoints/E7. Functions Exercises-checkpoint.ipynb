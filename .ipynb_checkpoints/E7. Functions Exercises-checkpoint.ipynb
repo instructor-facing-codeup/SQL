{
 "cells": [
  {
   "cell_type": "markdown",
   "id": "9fb1d5e2",
   "metadata": {},
   "source": [
    "# Functions Exercises"
   ]
  },
  {
   "cell_type": "markdown",
   "id": "3e080802",
   "metadata": {},
   "source": [
    "<div class=\"alert alert-block alert-info\">\n",
    "<b>Note:</b> All exercises in this section will be completed in Sequal Ace.</div>"
   ]
  },
  {
   "cell_type": "markdown",
   "id": "9273e3e1",
   "metadata": {},
   "source": [
    "1. Copy the order by exercise and save it as functions_exercises.sql.\n",
    "\n",
    "2. Write a query to to find all employees whose last name starts and ends with 'E'. Use concat() to combine their first and last name together as a single column named full_name.\n",
    "\n",
    "3. Convert the names produced in your last query to all uppercase.\n",
    "\n",
    "4. Find all employees hired in the 90s and born on Christmas. Use datediff() function to find how many days they have been working at the company (Hint: You will also need to use NOW() or CURDATE()),\n",
    "\n",
    "5. Find the smallest and largest current salary from the salaries table.\n",
    "\n",
    "6. Use your knowledge of built in SQL functions to generate a username for all of the employees. A username should be all lowercase, and consist of the first character of the employees first name, the first 4 characters of the employees last name, an underscore, the month the employee was born, and the last two digits of the year that they were born. Below is an example of what the first 10 rows will look like:\n"
   ]
  },
  {
   "cell_type": "raw",
   "id": "d249c18f",
   "metadata": {},
   "source": [
    "+------------+------------+-----------+------------+\n",
    "| username   | first_name | last_name | birth_date |\n",
    "+------------+------------+-----------+------------+\n",
    "| gface_0953 | Georgi     | Facello   | 1953-09-02 |\n",
    "| bsimm_0664 | Bezalel    | Simmel    | 1964-06-02 |\n",
    "| pbamf_1259 | Parto      | Bamford   | 1959-12-03 |\n",
    "| ckobl_0554 | Chirstian  | Koblick   | 1954-05-01 |\n",
    "| kmali_0155 | Kyoichi    | Maliniak  | 1955-01-21 |\n",
    "| apreu_0453 | Anneke     | Preusig   | 1953-04-20 |\n",
    "| tziel_0557 | Tzvetan    | Zielinski | 1957-05-23 |\n",
    "| skall_0258 | Saniya     | Kalloufi  | 1958-02-19 |\n",
    "| speac_0452 | Sumant     | Peac      | 1952-04-19 |\n",
    "| dpive_0663 | Duangkaew  | Piveteau  | 1963-06-01 |\n",
    "+------------+------------+-----------+------------+\n"
   ]
  },
  {
   "cell_type": "markdown",
   "id": "309c4857",
   "metadata": {},
   "source": [
    "#### #2 Write a query to to find all employees whose last name starts and ends with 'E'. "
   ]
  },
  {
   "cell_type": "raw",
   "id": "dba626d7",
   "metadata": {},
   "source": [
    "USE employees;\n",
    "SELECT first_name, last_name\n",
    "FROM employees\n",
    "WHERE last_name LIKE 'e%e';"
   ]
  },
  {
   "cell_type": "markdown",
   "id": "4bebc5b4",
   "metadata": {},
   "source": [
    "- Use concat() to combine their first and last name together as a single column named full_name."
   ]
  },
  {
   "cell_type": "raw",
   "id": "ecfac631",
   "metadata": {},
   "source": [
    "SELECT concat(first_name,' ', last_name) AS full_name FROM employees\n",
    "WHERE last_name LIKE 'e%e';"
   ]
  },
  {
   "cell_type": "markdown",
   "id": "728711b8",
   "metadata": {},
   "source": [
    "#### #3. Convert the names produced in your last query to all uppercase."
   ]
  },
  {
   "cell_type": "raw",
   "id": "541bd0d4",
   "metadata": {},
   "source": [
    "SELECT upper(\n",
    "concat(first_name, ' ', last_name))\n",
    "AS 'full_name'\n",
    "FROM employees\n",
    "where last_name like 'e%e';"
   ]
  },
  {
   "cell_type": "markdown",
   "id": "3df80eb7",
   "metadata": {},
   "source": [
    "#### #4 Find all employees hired in the 90s and born on Christmas. "
   ]
  },
  {
   "cell_type": "raw",
   "id": "9a06aca3",
   "metadata": {},
   "source": [
    "SELECT *\n",
    "FROM employees\n",
    "WHERE hire_date LIKE '199%'\n",
    "AND birth_date LIKE '%-12-25';"
   ]
  },
  {
   "cell_type": "markdown",
   "id": "b9697e2e",
   "metadata": {},
   "source": [
    "- Use datediff() function to find how many days they have been working at the company "
   ]
  },
  {
   "cell_type": "raw",
   "id": "60c3fe3e",
   "metadata": {},
   "source": [
    "SELECT *, datediff(now(), hire_date) \n",
    "AS days_with_firm\n",
    "FROM employees\n",
    "WHERE hire_date LIKE '199%'\n",
    "AND birth_date LIKE '%-12-25';"
   ]
  },
  {
   "cell_type": "markdown",
   "id": "a919de50",
   "metadata": {},
   "source": [
    "#### #5 Find the smallest and largest current salary from the salaries table."
   ]
  },
  {
   "cell_type": "raw",
   "id": "2f310d8e",
   "metadata": {},
   "source": [
    "SELECT MAX(salary) --(158220)\n",
    "FROM salaries\n",
    "WHERE to_date LIKE '9999%'; \n",
    "\n",
    "\n",
    "SELECT MIN(salary) --(38623)\n",
    "FROM salaries\n",
    "WHERE to_date LIKE '9999%';"
   ]
  },
  {
   "cell_type": "markdown",
   "id": "dcb49304",
   "metadata": {},
   "source": [
    "### OR"
   ]
  },
  {
   "cell_type": "raw",
   "id": "f5e119e1",
   "metadata": {},
   "source": [
    "SELECT MAX(salary), MIN(salary) \n",
    "FROM salaries\n",
    "WHERE to_date LIKE '9999%';"
   ]
  },
  {
   "cell_type": "markdown",
   "id": "816c1b6f",
   "metadata": {},
   "source": [
    "#### #6  Use your knowledge of built in SQL functions to generate a username for all of the employees. \n",
    "A username should be all lowercase, and consist of the first character of the employees first name, \n",
    "the first 4 characters of the employees last name, an underscore, the month the employee was born, and the last two digits of the year that they were born."
   ]
  },
  {
   "cell_type": "raw",
   "id": "37b2da89",
   "metadata": {},
   "source": [
    "SELECT lower(\n",
    "concat(\n",
    "substr(first_name, 1, 1), \n",
    "substr(last_name, 1,4), \n",
    "'_', \n",
    "substr(birth_date, 6,2), \n",
    "substr(birth_date, 3,2))) \n",
    "AS username, first_name, last_name, birth_date\n",
    "FROM employees;"
   ]
  },
  {
   "cell_type": "code",
   "execution_count": null,
   "id": "59a995d1",
   "metadata": {},
   "outputs": [],
   "source": []
  }
 ],
 "metadata": {
  "kernelspec": {
   "display_name": "Python 3 (ipykernel)",
   "language": "python",
   "name": "python3"
  },
  "language_info": {
   "codemirror_mode": {
    "name": "ipython",
    "version": 3
   },
   "file_extension": ".py",
   "mimetype": "text/x-python",
   "name": "python",
   "nbconvert_exporter": "python",
   "pygments_lexer": "ipython3",
   "version": "3.9.13"
  }
 },
 "nbformat": 4,
 "nbformat_minor": 5
}

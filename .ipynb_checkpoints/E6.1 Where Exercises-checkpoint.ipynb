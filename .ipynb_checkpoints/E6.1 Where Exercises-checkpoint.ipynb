{
 "cells": [
  {
   "cell_type": "markdown",
   "id": "63f48281",
   "metadata": {},
   "source": [
    "# Where Exercises"
   ]
  },
  {
   "cell_type": "markdown",
   "id": "f7b6153b",
   "metadata": {},
   "source": [
    "**Exercise Goals**:\n",
    "- Query our sample database using the WHERE clauses"
   ]
  },
  {
   "cell_type": "markdown",
   "id": "8fb6494b",
   "metadata": {},
   "source": [
    "<hr style=\"border:2px solid gray\">"
   ]
  },
  {
   "cell_type": "markdown",
   "id": "9c5fffcb",
   "metadata": {},
   "source": [
    "<div class=\"alert alert-block alert-info\">\n",
    "<b>Note:</b> All of these exercises will be completed in SQL.</div>"
   ]
  },
  {
   "cell_type": "markdown",
   "id": "c1215c74",
   "metadata": {},
   "source": [
    "1. Create a file named where_exercises.sql. Make sure to use the employees database.\n",
    "\n",
    "2. Find all current or previous employees with first names 'Irena', 'Vidya', or 'Maya' using IN. Enter a comment with the number of records returned.\n",
    "\n",
    "3. Find all current or previous employees with first names 'Irena', 'Vidya', or 'Maya', as in Q2, but use OR instead of IN. Enter a comment with the number of records returned. Does it match number of rows from Q2?\n",
    "\n",
    "4. Find all current or previous employees with first names 'Irena', 'Vidya', or 'Maya', using OR, and who is male. Enter a comment with the number of records returned.\n",
    "\n",
    "5. Find all current or previous employees whose last name starts with 'E'. Enter a comment with the number of employees whose last name starts with E.\n",
    "\n",
    "6. Find all current or previous employees whose last name starts or ends with 'E'. Enter a comment with the number of employees whose last name starts or ends with E. How many employees have a last name that ends with E, but does not start with E?\n",
    "\n",
    "7. Find all current or previous employees employees whose last name starts and ends with 'E'. Enter a comment with the number of employees whose last name starts and ends with E. How many employees' last names end with E, regardless of whether they start with E?\n",
    "\n",
    "8. Find all current or previous employees hired in the 90s. Enter a comment with the number of employees returned.\n",
    "\n",
    "9. Find all current or previous employees born on Christmas. Enter a comment with the number of employees returned.\n",
    "\n",
    "10.Find all current or previous employees hired in the 90s and born on Christmas. Enter a comment with the number of employees returned.\n",
    "\n",
    "11. Find all current or previous employees with a 'q' in their last name. Enter a comment with the number of records returned.\n",
    "\n",
    "12. Find all current or previous employees with a 'q' in their last name but not 'qu'. How many employees are found?"
   ]
  },
  {
   "cell_type": "markdown",
   "id": "b7bb670e",
   "metadata": {},
   "source": [
    "<hr style=\"border:2px solid gray\">"
   ]
  },
  {
   "cell_type": "markdown",
   "id": "596329a5",
   "metadata": {},
   "source": [
    "#### #2 Find all current or previous employees with first names 'Irena', 'Vidya', or 'Maya' using IN. \n",
    "**Answer**: 709 returns"
   ]
  },
  {
   "cell_type": "raw",
   "id": "d0449f54",
   "metadata": {},
   "source": [
    "select *\n",
    "from employees\n",
    "where first_name in ('Irena', 'Vidya', 'Maya')"
   ]
  },
  {
   "cell_type": "markdown",
   "id": "fe1d111e",
   "metadata": {},
   "source": [
    "#### #3 Find all current or previous employees with first names 'Irena', 'Vidya', or 'Maya', as in Q2, but use OR instead of IN. \n",
    "**Answer**: 709 returns"
   ]
  },
  {
   "cell_type": "raw",
   "id": "97000d73",
   "metadata": {},
   "source": [
    "select *\n",
    "from employees\n",
    "where first_name = 'Irena' or first_name = 'Vidya' or first_name = 'Maya';"
   ]
  },
  {
   "cell_type": "markdown",
   "id": "e67ba415",
   "metadata": {},
   "source": [
    "#### #4 Find all current or previous employees with first names 'Irena', 'Vidya', or 'Maya', using OR, and who is male. \n",
    "**Answer**: 1080241 returns"
   ]
  },
  {
   "cell_type": "raw",
   "id": "e2b38c61",
   "metadata": {},
   "source": [
    "select *\n",
    "from employees\n",
    "where first_name = 'Irena' or first_name = 'Vidya' or first_name = 'Maya'\n",
    "\tor gender = 'M';"
   ]
  },
  {
   "cell_type": "markdown",
   "id": "c80b4a41",
   "metadata": {},
   "source": [
    "#### #5 Find all current or previous employees whose last name starts with 'E'. \n",
    "**Answer**: 7330 returns (starts wtith E)"
   ]
  },
  {
   "cell_type": "raw",
   "id": "36b0fd91",
   "metadata": {},
   "source": [
    "select *\n",
    "from employees\n",
    "where last_name like 'e%';"
   ]
  },
  {
   "cell_type": "markdown",
   "id": "aec68bd9",
   "metadata": {},
   "source": [
    "#### #6 Find all current or previous employees whose last name starts or ends with 'E'. \n",
    "**Answer**: 30723 returns (starts or ends with E)"
   ]
  },
  {
   "cell_type": "raw",
   "id": "c07ce760",
   "metadata": {},
   "source": [
    "select *\n",
    "from employees\n",
    "where last_name like 'e%'\n",
    "\tor last_name like '%e';"
   ]
  },
  {
   "cell_type": "markdown",
   "id": "16dc80c4",
   "metadata": {},
   "source": [
    "#### #6 Part 2: How many employees have a last name that ends with E, but does not start with E?\n",
    "**Answer**: 23393 (end with E, do not start with E)"
   ]
  },
  {
   "cell_type": "raw",
   "id": "c9e5d933",
   "metadata": {},
   "source": [
    "select *\n",
    "from employees\n",
    "where last_name like '%e'\n",
    "\tand last_name not like 'e%';"
   ]
  },
  {
   "cell_type": "markdown",
   "id": "ff5949ba",
   "metadata": {},
   "source": [
    "#### #7 Find all current or previous employees employees whose last name starts and ends with 'E'. \n",
    "**Answer**: 899 returns (start and end with E)"
   ]
  },
  {
   "cell_type": "raw",
   "id": "8224d00d",
   "metadata": {},
   "source": [
    "select *\n",
    "from employees\n",
    "where last_name like 'e%'\n",
    "\tand last_name like '%e';"
   ]
  },
  {
   "cell_type": "markdown",
   "id": "eb8e5f6e",
   "metadata": {},
   "source": [
    "#### #7 Part 2: How many employees' last names end with E, regardless of whether they start with E?\n",
    "**Answer**: 24292 returns"
   ]
  },
  {
   "cell_type": "raw",
   "id": "95bf5c0e",
   "metadata": {},
   "source": [
    "select *\n",
    "from employees\n",
    "where last_name like '%e';"
   ]
  },
  {
   "cell_type": "markdown",
   "id": "95e9c0df",
   "metadata": {},
   "source": [
    "#### #8 Find all current or previous employees hired in the 90s.\n",
    "**Answer**: 135214 returns"
   ]
  },
  {
   "cell_type": "raw",
   "id": "1e39e1fd",
   "metadata": {},
   "source": [
    "select *\n",
    "from employees\n",
    "where hire_date like '199%-%-%';"
   ]
  },
  {
   "cell_type": "markdown",
   "id": "8269cbd6",
   "metadata": {},
   "source": [
    "#### #9 Find all current or previous employees born on Christmas\n",
    "**Answer**: 842 returns"
   ]
  },
  {
   "cell_type": "raw",
   "id": "28048776",
   "metadata": {},
   "source": [
    "select *\n",
    "from employees\n",
    "where birth_date like '%-12-25';"
   ]
  },
  {
   "cell_type": "markdown",
   "id": "cd7795c0",
   "metadata": {},
   "source": [
    "#### #10 Find all current or previous employees hired in the 90s and born on Christmas.\n",
    "**Answer**: 362 returns"
   ]
  },
  {
   "cell_type": "raw",
   "id": "b7199b16",
   "metadata": {},
   "source": [
    "select *\n",
    "from employees\n",
    "where birth_date like '%-12-25'\n",
    "\tand hire_date like '199%-%-%';"
   ]
  },
  {
   "cell_type": "markdown",
   "id": "ba52f3f1",
   "metadata": {},
   "source": [
    "#### #11 Find all current or previous employees with a 'q' in their last name.\n",
    "**Answer**: 1873 returns"
   ]
  },
  {
   "cell_type": "raw",
   "id": "08e429f3",
   "metadata": {},
   "source": [
    "select *\n",
    "from employees\n",
    "where last_name like '%q%';"
   ]
  },
  {
   "cell_type": "markdown",
   "id": "e0fd01b4",
   "metadata": {},
   "source": [
    "#### #12 Find all current or previous employees with a 'q' in their last name but not 'qu'\n",
    "**Answer**:  547 returns"
   ]
  },
  {
   "cell_type": "raw",
   "id": "b0e2be0a",
   "metadata": {},
   "source": [
    "select *\n",
    "from employees\n",
    "where last_name like '%q%' \n",
    "\tand last_name not like '%qu%';"
   ]
  }
 ],
 "metadata": {
  "kernelspec": {
   "display_name": "Python 3 (ipykernel)",
   "language": "python",
   "name": "python3"
  },
  "language_info": {
   "codemirror_mode": {
    "name": "ipython",
    "version": 3
   },
   "file_extension": ".py",
   "mimetype": "text/x-python",
   "name": "python",
   "nbconvert_exporter": "python",
   "pygments_lexer": "ipython3",
   "version": "3.9.13"
  }
 },
 "nbformat": 4,
 "nbformat_minor": 5
}

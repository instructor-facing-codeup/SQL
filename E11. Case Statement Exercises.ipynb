{
 "cells": [
  {
   "cell_type": "markdown",
   "id": "73f945fd",
   "metadata": {},
   "source": [
    "# Case Statement Exercises\n",
    "case_exercises.sql"
   ]
  },
  {
   "cell_type": "markdown",
   "id": "bd43a285",
   "metadata": {},
   "source": [
    "- Use CASE statements or IF() function to explore information in the employees database\n",
    "\n",
    "Create a file named case_exercises.sql and craft queries to return the results for the following criteria:\n",
    "\n",
    "1. Write a query that returns all employees, their department number, their start date, their end date, and a new column 'is_current_employee' that is a 1 if the employee is still with the company and 0 if not.\n",
    "2. Write a query that returns all employee names (previous and current), and a new column 'alpha_group' that returns 'A-H', 'I-Q', or 'R-Z' depending on the first letter of their last name.\n",
    "3. How many employees (current or previous) were born in each decade?\n",
    "4. What is the current average salary for each of the following department groups: R&D, Sales & Marketing, Prod & QM, Finance & HR, Customer Service?"
   ]
  },
  {
   "cell_type": "markdown",
   "id": "c960ccbb",
   "metadata": {},
   "source": [
    "<hr style=\"border:2px solid gray\">"
   ]
  },
  {
   "cell_type": "markdown",
   "id": "4993c7c6",
   "metadata": {},
   "source": [
    "#### #1. Write a query that returns all employees, their department number, their start date, their end date, and a new column 'is_current_employee' that is a 1 if the employee is still with the company and 0 if not."
   ]
  },
  {
   "cell_type": "raw",
   "id": "7a83c1e2",
   "metadata": {},
   "source": [
    "SELECT *,\n",
    "\tCASE to_date\n",
    "\t\tWHEN '9999-01-01' THEN 1\n",
    "\t\tELSE 0\n",
    "\t\tEND AS is_current_employee\n",
    "FROM dept_emp;"
   ]
  },
  {
   "cell_type": "raw",
   "id": "4d24b378",
   "metadata": {},
   "source": [
    "select emp_no, max(dept_no) as dept_no , min(from_date) as from_date , max(to_date) as to_date,\n",
    "max(if(to_date = '9999-01-01', true, false )) as current_employment\n",
    "from dept_emp\n",
    "group by emp_no;"
   ]
  },
  {
   "cell_type": "markdown",
   "id": "d420149d",
   "metadata": {},
   "source": [
    "<hr style=\"border:0.5px solid gray\">"
   ]
  },
  {
   "cell_type": "markdown",
   "id": "66c8b2f0",
   "metadata": {},
   "source": [
    "#### #2. Write a query that returns all employee names (previous and current), and a new column 'alpha_group' that returns 'A-H', 'I-Q', or 'R-Z' depending on the first letter of their last name."
   ]
  },
  {
   "cell_type": "raw",
   "id": "c9b823fb",
   "metadata": {},
   "source": [
    "  SELECT last_name,\n",
    " \tCASE\n",
    " \t\tWHEN last_name BETWEEN 'a%' AND 'i%' THEN 'A_H_last_name'\n",
    " \t\tWHEN last_name BETWEEN 'i%'AND 'r%' THEN 'I_Q_last_name'\n",
    " \t\tWHEN last_name BETWEEN 'r%' AND 'zz%' THEN 'R-Z_last_name'\n",
    " \t\tELSE 'other'\n",
    " \t\tEND AS alpha_group\n",
    " \tFROM employees;"
   ]
  },
  {
   "cell_type": "markdown",
   "id": "662c283e",
   "metadata": {},
   "source": [
    "## OR"
   ]
  },
  {
   "cell_type": "raw",
   "id": "6f2075cc",
   "metadata": {},
   "source": [
    " SELECT last_name,\n",
    " \tCASE\n",
    " \t\tWHEN substr(last_name, 1,1) BETWEEN 'a' AND 'h' THEN 'A_H_last_name'\n",
    " \t\tWHEN substr(last_name, 1,1) BETWEEN 'i'AND 'q' THEN 'I_Q_last_name'\n",
    " \t\tWHEN substr(last_name, 1,1) BETWEEN 'r' AND 'z' THEN 'R-Z_last_name'\n",
    " \t\tELSE 'other'\n",
    " \t\tEND AS alpha_group\n",
    " \tFROM employees;"
   ]
  },
  {
   "cell_type": "markdown",
   "id": "26e5c517",
   "metadata": {},
   "source": [
    "<hr style=\"border:0.5px solid gray\">"
   ]
  },
  {
   "cell_type": "markdown",
   "id": "7a238155",
   "metadata": {},
   "source": [
    "#### #3. How many employees (current or previous) were born in each decade?"
   ]
  },
  {
   "cell_type": "raw",
   "id": "dfe91934",
   "metadata": {},
   "source": [
    "SELECT \n",
    " \tCASE\n",
    " \t\tWHEN birth_date BETWEEN '1950-01-01' AND '1959-12-31' THEN 'born_in_1950s'\n",
    " \t\tWHEN birth_date BETWEEN '1960-01-01' AND '1969-12-31' THEN 'born_in_1960s'\n",
    " \t\tELSE 'other'\n",
    " \t\tEND AS employees_born_per_decade,\n",
    " \tcount(*) AS count_per_decade\n",
    " \tFROM employees\n",
    " \tGROUP BY employees_born_per_decade\n",
    " \tORDER BY count_per_decade;"
   ]
  },
  {
   "cell_type": "markdown",
   "id": "22d8db82",
   "metadata": {},
   "source": [
    "## OR"
   ]
  },
  {
   "cell_type": "raw",
   "id": "ea4f6bb5",
   "metadata": {},
   "source": [
    "SELECT \n",
    " \tCASE\n",
    " \t\tWHEN birth_date LIKE '195%' THEN 'born_in_1950s'\n",
    " \t\tWHEN birth_date LIKE'196%' THEN 'born_in_1960s'\n",
    " \t\tELSE 'other'\n",
    " \t\tEND AS employees_born_per_decade,\n",
    " \tcount(*) AS count_per_decade\n",
    " \tFROM employees\n",
    " \tGROUP BY employees_born_per_decade\n",
    " \tORDER BY count_per_decade;"
   ]
  },
  {
   "cell_type": "markdown",
   "id": "518b4f10",
   "metadata": {},
   "source": [
    "<hr style=\"border:0.5px solid gray\">"
   ]
  },
  {
   "cell_type": "markdown",
   "id": "ac5fb26c",
   "metadata": {},
   "source": [
    "#### #4. What is the current average salary for each of the following department groups: R&D, Sales & Marketing, Prod & QM, Finance & HR, Customer Service?"
   ]
  },
  {
   "cell_type": "markdown",
   "id": "044acb28",
   "metadata": {},
   "source": [
    " *BONUS-- What is the current average salary for each of the following department groups: \n",
    " R&D, Sales & Marketing, Prod & QM, Finance & HR, Customer Service? "
   ]
  },
  {
   "cell_type": "raw",
   "id": "0b9f3985",
   "metadata": {},
   "source": [
    "SELECT salary,\n",
    "        CASE \n",
    "            WHEN dept_name IN ('research', 'development') THEN 'R&D'\n",
    "            WHEN dept_name IN ('sales', 'marketing') THEN 'Sales & Marketing' \n",
    "            WHEN dept_name IN ('Production', 'Quality Management') THEN 'Prod & QM'\n",
    "            WHEN dept_name IN ('Customer Service') THEN 'Customer Service' \n",
    "            WHEN dept_name IN ('Finance', 'Human Resources') THEN 'Finance & HR'\n",
    "            ELSE dept_name\n",
    "            END AS dept_group\n",
    "FROM departments\n",
    "    JOIN dept_emp ON departments.dept_no = dept_emp.dept_no\n",
    "    JOIN employees ON dept_emp.emp_no = employees.emp_no\n",
    "    JOIN salaries ON employees.emp_no = salaries.emp_no\n",
    "ORDER BY salary DESC;"
   ]
  },
  {
   "cell_type": "raw",
   "id": "7165fd06",
   "metadata": {},
   "source": [
    "SELECT AVG(salary) AS average_salary,\n",
    "        CASE \n",
    "            WHEN dept_name IN ('research', 'development') THEN 'R&D'\n",
    "            WHEN dept_name IN ('sales', 'marketing') THEN 'Sales & Marketing' \n",
    "            WHEN dept_name IN ('Production', 'Quality Management') THEN 'Prod & QM'\n",
    "            WHEN dept_name IN ('Customer Service') THEN 'Customer Service' \n",
    "            WHEN dept_name IN ('Finance', 'Human Resources') THEN 'Finance & HR'\n",
    "            ELSE dept_name\n",
    "            END AS dept_group\n",
    "FROM departments\n",
    "    JOIN dept_emp ON departments.dept_no = dept_emp.dept_no\n",
    "    JOIN employees ON dept_emp.emp_no = employees.emp_no\n",
    "    JOIN salaries ON employees.emp_no = salaries.emp_no\n",
    "GROUP BY dept_name\n",
    "ORDER BY average_salary DESC;"
   ]
  }
 ],
 "metadata": {
  "kernelspec": {
   "display_name": "Python 3 (ipykernel)",
   "language": "python",
   "name": "python3"
  },
  "language_info": {
   "codemirror_mode": {
    "name": "ipython",
    "version": 3
   },
   "file_extension": ".py",
   "mimetype": "text/x-python",
   "name": "python",
   "nbconvert_exporter": "python",
   "pygments_lexer": "ipython3",
   "version": "3.9.13"
  }
 },
 "nbformat": 4,
 "nbformat_minor": 5
}

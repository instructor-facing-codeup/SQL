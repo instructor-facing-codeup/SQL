{
 "cells": [
  {
   "cell_type": "markdown",
   "id": "b01f874e",
   "metadata": {},
   "source": [
    "# Joins Exercises"
   ]
  },
  {
   "cell_type": "markdown",
   "id": "a07d978a",
   "metadata": {},
   "source": [
    "Create a file named join_exercises.sql to do your work in."
   ]
  },
  {
   "cell_type": "markdown",
   "id": "3f6c5007",
   "metadata": {},
   "source": [
    "<hr style=\"border:2px solid gray\">"
   ]
  },
  {
   "cell_type": "markdown",
   "id": "b0de56a7",
   "metadata": {},
   "source": [
    "### Join Example Database"
   ]
  },
  {
   "cell_type": "markdown",
   "id": "3698aedd",
   "metadata": {},
   "source": [
    "#### #1. Use the join_example_db. Select all the records from both the users and roles tables."
   ]
  },
  {
   "cell_type": "markdown",
   "id": "ee04a182",
   "metadata": {},
   "source": [
    "#### #2 Use join, left join, and right join to combine results from the users and roles tables as we did in the lesson. \n",
    "- Before you run each query, guess the expected number of results."
   ]
  },
  {
   "cell_type": "raw",
   "id": "c8fa3bfd",
   "metadata": {},
   "source": [
    "SELECT *\n",
    "FROM users\n",
    "JOIN roles ON users.role_id = roles.id"
   ]
  },
  {
   "cell_type": "raw",
   "id": "9f9e8662",
   "metadata": {},
   "source": [
    "SELECT *\n",
    "FROM users\n",
    "left JOIN roles ON users.role_id = roles.id"
   ]
  },
  {
   "cell_type": "raw",
   "id": "3675835e",
   "metadata": {},
   "source": [
    "SELECT *\n",
    "FROM users\n",
    "right JOIN roles ON users.role_id = roles.id"
   ]
  },
  {
   "cell_type": "markdown",
   "id": "4eb9da90",
   "metadata": {},
   "source": [
    "#### #3. Although not explicitly covered in the lesson, aggregate functions like count can be used with join queries. \n",
    "- Use count and the appropriate join type to get a list of roles along with the number of users that has the role. \n",
    "- Hint: You will also need to use group by in the query."
   ]
  },
  {
   "cell_type": "raw",
   "id": "41d9ffd5",
   "metadata": {},
   "source": [
    "SELECT count(*), roles.name\n",
    "FROM users\n",
    "JOIN roles ON users.role_id = roles.id\n",
    "GROUP BY roles.name;"
   ]
  },
  {
   "cell_type": "markdown",
   "id": "bb07e870",
   "metadata": {},
   "source": [
    "<hr style=\"border:2px solid gray\">"
   ]
  },
  {
   "cell_type": "markdown",
   "id": "7a38b591",
   "metadata": {},
   "source": [
    "### Employees Database\n",
    "#### #1. Use the employees database."
   ]
  },
  {
   "cell_type": "markdown",
   "id": "cbe26a9e",
   "metadata": {},
   "source": [
    "#### #2. Using the example in the Associative Table Joins section as a guide, write a query that shows each department along with the name of the current manager for that department."
   ]
  },
  {
   "cell_type": "raw",
   "id": "b9cdf4da",
   "metadata": {},
   "source": [
    "  Department Name    | Department Manager\n",
    " --------------------+--------------------\n",
    "  Customer Service   | Yuchang Weedman\n",
    "  Development        | Leon DasSarma\n",
    "  Finance            | Isamu Legleitner\n",
    "  Human Resources    | Karsten Sigstam\n",
    "  Marketing          | Vishwani Minakawa\n",
    "  Production         | Oscar Ghazalie\n",
    "  Quality Management | Dung Pesch\n",
    "  Research           | Hilary Kambil\n",
    "  Sales              | Hauke Zhang"
   ]
  },
  {
   "cell_type": "raw",
   "id": "7f4a37fc",
   "metadata": {},
   "source": [
    "SELECT dept_name AS Department_Name, CONCAT(first_name, ' ', last_name) AS Deptarment_Manager \n",
    "FROM departments\n",
    "    JOIN dept_manager ON departments.dept_no = dept_manager.dept_no\n",
    "    JOIN employees ON dept_manager.emp_no = employees.emp_no\n",
    "WHERE to_date LIKE '9999%'\n",
    "ORDER BY dept_name;"
   ]
  },
  {
   "cell_type": "markdown",
   "id": "818b66e2",
   "metadata": {},
   "source": [
    "#### #3. Find the name of all departments currently managed by women."
   ]
  },
  {
   "cell_type": "raw",
   "id": "9e298f5d",
   "metadata": {},
   "source": [
    "Department Name | Manager Name\n",
    "----------------+-----------------\n",
    "Development     | Leon DasSarma\n",
    "Finance         | Isamu Legleitner\n",
    "Human Resources | Karsetn Sigstam\n",
    "Research        | Hilary Kambil"
   ]
  },
  {
   "cell_type": "raw",
   "id": "108aad9b",
   "metadata": {},
   "source": [
    "SELECT dept_name AS Department_Name, CONCAT(first_name, ' ', last_name) AS Manager_Name\n",
    "FROM departments\n",
    "\tJOIN dept_manager ON departments.dept_no = dept_manager.dept_no\n",
    "\tJOIN employees ON dept_manager.emp_no = employees.emp_no\n",
    "WHERE to_date LIKE '9999%' AND gender LIKE 'F'\n",
    "ORDER BY Department_Name;"
   ]
  },
  {
   "cell_type": "markdown",
   "id": "7577dc27",
   "metadata": {},
   "source": [
    "#### #4. Find the current titles of employees currently working in the Customer Service department."
   ]
  },
  {
   "cell_type": "raw",
   "id": "1f5e5f95",
   "metadata": {},
   "source": [
    "Title              | Count\n",
    "-------------------+------\n",
    "Assistant Engineer |    68\n",
    "Engineer           |   627\n",
    "Manager            |     1\n",
    "Senior Engineer    |  1790\n",
    "Senior Staff       | 11268\n",
    "Staff              |  3574\n",
    "Technique Leader   |   241"
   ]
  },
  {
   "cell_type": "raw",
   "id": "ef48e33b",
   "metadata": {},
   "source": [
    "SELECT title AS Title, count(*) AS Count\n",
    "FROM departments\n",
    "    JOIN dept_emp ON departments.dept_no = dept_emp.dept_no\n",
    "    JOIN employees ON dept_emp.emp_no = employees.emp_no\n",
    "    JOIN titles ON employees.emp_no = titles.emp_no\n",
    "WHERE dept_name LIKE 'Customer Service' AND dept_emp.to_date LIKE '9999%' AND titles.to_date LIKE '9999%'\n",
    "GROUP BY title;"
   ]
  },
  {
   "cell_type": "markdown",
   "id": "2256c34f",
   "metadata": {},
   "source": [
    "#### #5. Find the current salary of all current managers."
   ]
  },
  {
   "cell_type": "raw",
   "id": "97ac362a",
   "metadata": {},
   "source": [
    "Department Name    | Name              | Salary\n",
    "-------------------+-------------------+-------\n",
    "Customer Service   | Yuchang Weedman   |  58745\n",
    "Development        | Leon DasSarma     |  74510\n",
    "Finance            | Isamu Legleitner  |  83457\n",
    "Human Resources    | Karsten Sigstam   |  65400\n",
    "Marketing          | Vishwani Minakawa | 106491\n",
    "Production         | Oscar Ghazalie    |  56654\n",
    "Quality Management | Dung Pesch        |  72876\n",
    "Research           | Hilary Kambil     |  79393\n",
    "Sales              | Hauke Zhang       | 101987"
   ]
  },
  {
   "cell_type": "raw",
   "id": "494f48c7",
   "metadata": {},
   "source": [
    "SELECT dept_name AS Department_Name, CONCAT(first_name, ' ', last_name) AS Manager_Name, salary AS Salary\n",
    "FROM departments\n",
    "    JOIN dept_manager ON departments.dept_no = dept_manager.dept_no\n",
    "    JOIN employees ON dept_manager.emp_no = employees.emp_no\n",
    "    JOIN salaries ON employees.emp_no = salaries.emp_no\n",
    "WHERE dept_manager.to_date LIKE '9999%' AND salaries.to_date LIKE '9999%'\n",
    "ORDER BY dept_name;"
   ]
  },
  {
   "cell_type": "markdown",
   "id": "90d81fcc",
   "metadata": {},
   "source": [
    "#### #6. Find the number of current employees in each department."
   ]
  },
  {
   "cell_type": "raw",
   "id": "8d9b52db",
   "metadata": {},
   "source": [
    "+---------+--------------------+---------------+\n",
    "| dept_no | dept_name          | num_employees |\n",
    "+---------+--------------------+---------------+\n",
    "| d001    | Marketing          | 14842         |\n",
    "| d002    | Finance            | 12437         |\n",
    "| d003    | Human Resources    | 12898         |\n",
    "| d004    | Production         | 53304         |\n",
    "| d005    | Development        | 61386         |\n",
    "| d006    | Quality Management | 14546         |\n",
    "| d007    | Sales              | 37701         |\n",
    "| d008    | Research           | 15441         |\n",
    "| d009    | Customer Service   | 17569         |\n",
    "+---------+--------------------+---------------+"
   ]
  },
  {
   "cell_type": "raw",
   "id": "92daefa8",
   "metadata": {},
   "source": [
    "SELECT dept_emp.dept_no,dept_name, count(*) AS num_employees\n",
    "FROM dept_emp\n",
    "    JOIN departments ON dept_emp.dept_no = departments.dept_no\n",
    "WHERE dept_emp.to_date LIKE '9999%' \n",
    "GROUP BY dept_emp.dept_no, dept_name"
   ]
  },
  {
   "cell_type": "markdown",
   "id": "d1b65b05",
   "metadata": {},
   "source": [
    "#### #7. Which department has the highest average salary? Hint: Use current not historic information."
   ]
  },
  {
   "cell_type": "raw",
   "id": "aa00b35b",
   "metadata": {},
   "source": [
    "+-----------+----------------+\n",
    "| dept_name | average_salary |\n",
    "+-----------+----------------+\n",
    "| Sales     | 88852.9695     |\n",
    "+-----------+----------------+"
   ]
  },
  {
   "cell_type": "raw",
   "id": "bb3c418f",
   "metadata": {},
   "source": [
    "SELECT dept_name, AVG(salary) AS average_salary\n",
    "FROM departments\n",
    "\tJOIN dept_emp ON departments.dept_no = dept_emp.dept_no\n",
    "\tJOIN employees ON dept_emp.emp_no = employees.emp_no\n",
    "\tJOIN salaries ON employees.emp_no = salaries.emp_no\n",
    "WHERE dept_emp.to_date LIKE '9999%' AND salaries.to_date LIKE '9999%'\n",
    "GROUP BY dept_name\n",
    "ORDER BY average_salary DESC\n",
    "LIMIT 1;"
   ]
  },
  {
   "cell_type": "markdown",
   "id": "c766163f",
   "metadata": {},
   "source": [
    "#### #8. Who is the highest paid employee in the Marketing department?"
   ]
  },
  {
   "cell_type": "raw",
   "id": "3790608c",
   "metadata": {},
   "source": [
    "+------------+-----------+\n",
    "| first_name | last_name |\n",
    "+------------+-----------+\n",
    "| Akemi      | Warwick   |\n",
    "+------------+-----------+"
   ]
  },
  {
   "cell_type": "raw",
   "id": "ea8f0a2b",
   "metadata": {},
   "source": [
    "SELECT first_name, last_name\n",
    "FROM salaries\n",
    "\tJOIN employees ON salaries.emp_no = employees.emp_no\n",
    "\tJOIN dept_emp ON employees.emp_no = dept_emp.emp_no\n",
    "\tJOIN departments ON dept_emp.dept_no = departments.dept_no\n",
    "WHERE dept_name LIKE 'Marketing'\n",
    "ORDER BY salary DESC\n",
    "LIMIT 1;"
   ]
  },
  {
   "cell_type": "markdown",
   "id": "4aacc016",
   "metadata": {},
   "source": [
    "#### #9. Which current department manager has the highest salary?"
   ]
  },
  {
   "cell_type": "raw",
   "id": "223d02f7",
   "metadata": {},
   "source": [
    "+------------+-----------+--------+-----------+\n",
    "| first_name | last_name | salary | dept_name |\n",
    "+------------+-----------+--------+-----------+\n",
    "| Vishwani   | Minakawa  | 106491 | Marketing |\n",
    "+------------+-----------+--------+-----------+"
   ]
  },
  {
   "cell_type": "raw",
   "id": "2e7dacfb",
   "metadata": {},
   "source": [
    "SELECT first_name, last_name, salary, dept_name\n",
    "FROM salaries\n",
    "\tJOIN employees ON salaries.emp_no = employees.emp_no\n",
    "\tJOIN dept_manager ON employees.emp_no = dept_manager.emp_no\n",
    "\tJOIN departments ON dept_manager.dept_no = departments.dept_no\n",
    "WHERE dept_manager.to_date LIKE '9999%' AND salaries.to_date LIKE '9999%'\n",
    "ORDER BY salary DESC\n",
    "LIMIT 1;"
   ]
  },
  {
   "cell_type": "markdown",
   "id": "a16938d4",
   "metadata": {},
   "source": [
    "#### #10. Determine the average salary for each department. Use all salary information and round your results."
   ]
  },
  {
   "cell_type": "raw",
   "id": "13af1f22",
   "metadata": {},
   "source": [
    "+--------------------+----------------+\n",
    "| dept_name          | average_salary | \n",
    "+--------------------+----------------+\n",
    "| Sales              | 80668          | \n",
    "+--------------------+----------------+\n",
    "| Marketing          | 71913          |\n",
    "+--------------------+----------------+\n",
    "| Finance            | 70489          |\n",
    "+--------------------+----------------+\n",
    "| Research           | 59665          |\n",
    "+--------------------+----------------+\n",
    "| Production         | 59605          |\n",
    "+--------------------+----------------+\n",
    "| Development        | 59479          |\n",
    "+--------------------+----------------+\n",
    "| Customer Service   | 58770          |\n",
    "+--------------------+----------------+\n",
    "| Quality Management | 57251          |\n",
    "+--------------------+----------------+\n",
    "| Human Resources    | 55575          |\n",
    "+--------------------+----------------+"
   ]
  },
  {
   "cell_type": "raw",
   "id": "783bffd5",
   "metadata": {},
   "source": [
    "SELECT d.dept_name,\n",
    "\t\tROUND(AVG(s.salary), 0) AS avg_dept_salary\n",
    "FROM departments d\n",
    "JOIN dept_emp de ON d.dept_no = de.dept_no\n",
    "JOIN salaries s ON de.emp_no = s.emp_no\n",
    "GROUP BY d.dept_name\n",
    "ORDER BY avg_dept_salary DESC;"
   ]
  },
  {
   "cell_type": "markdown",
   "id": "69c4cba5",
   "metadata": {},
   "source": [
    "11. **Bonus**: Find the names of all current employees, their department name, and their current manager's name."
   ]
  },
  {
   "cell_type": "raw",
   "id": "8acf3574",
   "metadata": {},
   "source": [
    "240,124 Rows\n",
    "\n",
    "Employee Name | Department Name  |  Manager Name\n",
    "--------------|------------------|-----------------\n",
    " Huan Lortz   | Customer Service | Yuchang Weedman\n",
    "\n",
    " ....."
   ]
  },
  {
   "cell_type": "markdown",
   "id": "5989b258",
   "metadata": {},
   "source": [
    "12. **Bonus**: Who is the highest paid employee within each department."
   ]
  },
  {
   "cell_type": "code",
   "execution_count": null,
   "id": "5ef978ec",
   "metadata": {},
   "outputs": [],
   "source": []
  }
 ],
 "metadata": {
  "kernelspec": {
   "display_name": "Python 3 (ipykernel)",
   "language": "python",
   "name": "python3"
  },
  "language_info": {
   "codemirror_mode": {
    "name": "ipython",
    "version": 3
   },
   "file_extension": ".py",
   "mimetype": "text/x-python",
   "name": "python",
   "nbconvert_exporter": "python",
   "pygments_lexer": "ipython3",
   "version": "3.9.13"
  }
 },
 "nbformat": 4,
 "nbformat_minor": 5
}
